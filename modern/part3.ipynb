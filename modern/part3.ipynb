{
 "cells": [
  {
   "cell_type": "code",
   "execution_count": 1,
   "metadata": {
    "collapsed": true
   },
   "outputs": [],
   "source": [
    "import requests\n",
    "import json\n",
    "import glob\n",
    "import datetime\n",
    "from io import StringIO\n",
    "import numpy as np\n",
    "import pandas as pd\n",
    "from pandas.io.json import json_normalize\n",
    "import matplotlib.pyplot as plt\n",
    "import seaborn as sns\n",
    "\n",
    "%matplotlib inline\n",
    "sns.set_style('ticks')"
   ]
  },
  {
   "cell_type": "code",
   "execution_count": 2,
   "metadata": {
    "collapsed": true
   },
   "outputs": [],
   "source": [
    "# ids (states) for sensor URL parameters\n",
    "states = 'AK AL AR AZ CA CO CT DE FL GA HI IA ID IL IN KS KY LA MA MD ME \\\n",
    " MI MN MO MS MT NC ND NE NH NJ NM NV NY OH OK OR PA RI SC SD TN TX UT VA VT \\\n",
    " WA WI WV WY'.split()"
   ]
  },
  {
   "cell_type": "code",
   "execution_count": 3,
   "metadata": {
    "collapsed": true
   },
   "outputs": [],
   "source": [
    "# create network ids from list of state ids\n",
    "networks = ['AWOS'] + ['{}_ASOS'.format(state) for state in states]"
   ]
  },
  {
   "cell_type": "code",
   "execution_count": 4,
   "metadata": {
    "collapsed": true
   },
   "outputs": [],
   "source": [
    "def get_weather(stations, start=pd.Timestamp('2014-01-01'), end=pd.Timestamp('2014-01-31')):\n",
    "    '''\n",
    "        fetch weather from MESOnet between start and end dates\n",
    "    '''\n",
    "    \n",
    "    url = (\"http://mesonet.agron.iastate.edu/cgi-bin/request/asos.py?\"\n",
    "           \"&data=tmpf&data=relh&data=sped&data=mslp&data=p01i&data=vsby&data=gust_mph&data=skyc1&data=skyc2&data=skyc3\"\n",
    "           \"&tz=Etc/UTC&format=comma&latlon=no\"\n",
    "           \"&{start:year1=%Y&month1=%m&day1=%d}\"\n",
    "           \"&{end:year2=%Y&month2=%m&day2=%d}&{stations}\")\n",
    "\n",
    "    stations = '&'.join('station={}'.format(s) for s in stations)\n",
    "\n",
    "    weather = (pd.read_csv(url.format(start=start, end=end, stations=stations),\n",
    "                           comment='#')\n",
    "                 .rename(columns={'valid': 'date'})\n",
    "                 .rename(columns=str.strip)\n",
    "                 .assign(date=lambda df: pd.to_datetime(df['date']))\n",
    "                 .set_index(['station', 'date'])\n",
    "                 .sort_index())\n",
    "    \n",
    "    float_cols = ['tmpf', 'relh', 'sped', 'mslp', 'p01i', 'vsby', \"gust_mph\"]\n",
    "    weather[float_cols] = weather[float_cols].apply(pd.to_numeric, errors=\"coerce\")\n",
    "    \n",
    "    return weather"
   ]
  },
  {
   "cell_type": "code",
   "execution_count": 5,
   "metadata": {
    "collapsed": true
   },
   "outputs": [],
   "source": [
    "def get_ids(network):\n",
    "    '''\n",
    "        get sensor id from network\n",
    "    '''\n",
    "    \n",
    "    url = 'http://mesonet.agron.iastate.edu/geojson/network.php?network={}'\n",
    "    \n",
    "    r = requests.get(url.format(network))\n",
    "    \n",
    "    md = json_normalize(r.json()['features'])\n",
    "    \n",
    "    md['network'] = network\n",
    "    \n",
    "    return md"
   ]
  },
  {
   "cell_type": "code",
   "execution_count": 6,
   "metadata": {
    "collapsed": true
   },
   "outputs": [],
   "source": [
    "# get sensor ids\n",
    "ids = pd.concat([get_ids(network) for network in networks], ignore_index=True)"
   ]
  },
  {
   "cell_type": "code",
   "execution_count": 7,
   "metadata": {
    "collapsed": true
   },
   "outputs": [],
   "source": [
    "# group ids by network\n",
    "id_groups = ids.groupby('network')"
   ]
  },
  {
   "cell_type": "code",
   "execution_count": 8,
   "metadata": {},
   "outputs": [
    {
     "name": "stdout",
     "output_type": "stream",
     "text": [
      "0/51\r"
     ]
    },
    {
     "name": "stderr",
     "output_type": "stream",
     "text": [
      "/home/gr4vy/anaconda3/lib/python3.6/site-packages/IPython/core/interactiveshell.py:2802: DtypeWarning: Columns (6) have mixed types. Specify dtype option on import or set low_memory=False.\n",
      "  if self.run_code(code, result):\n"
     ]
    },
    {
     "name": "stdout",
     "output_type": "stream",
     "text": [
      "23/51\r"
     ]
    },
    {
     "name": "stderr",
     "output_type": "stream",
     "text": [
      "/home/gr4vy/anaconda3/lib/python3.6/site-packages/IPython/core/interactiveshell.py:2802: DtypeWarning: Columns (2,3,4) have mixed types. Specify dtype option on import or set low_memory=False.\n",
      "  if self.run_code(code, result):\n"
     ]
    },
    {
     "name": "stdout",
     "output_type": "stream",
     "text": [
      "50/51\r"
     ]
    }
   ],
   "source": [
    "# create csv files for weather data\n",
    "import os\n",
    "\n",
    "os.makedirs(\"weather\", exist_ok=True)\n",
    "\n",
    "for i, (k, v) in enumerate(id_groups):\n",
    "    print(\"{}/{}\".format(i, len(networks)), end='\\r')\n",
    "    weather = get_weather(v['id'])\n",
    "    weather.to_csv(\"weather/{}.csv\".format(k))"
   ]
  },
  {
   "cell_type": "code",
   "execution_count": 22,
   "metadata": {
    "collapsed": true
   },
   "outputs": [],
   "source": [
    "weather = pd.concat([\n",
    "    pd.read_csv(f, parse_dates=['date'], index_col=['station', 'date'])\n",
    "    for f in glob.glob('weather/*.csv')])\n",
    "\n",
    "weather.to_hdf(\"weather.h5\", \"weather\")"
   ]
  },
  {
   "cell_type": "code",
   "execution_count": 2,
   "metadata": {
    "collapsed": true
   },
   "outputs": [],
   "source": [
    "weather = pd.read_hdf('weather.h5', 'weather').sort_index()"
   ]
  },
  {
   "cell_type": "code",
   "execution_count": 3,
   "metadata": {},
   "outputs": [
    {
     "data": {
      "text/html": [
       "<div>\n",
       "<style>\n",
       "    .dataframe thead tr:only-child th {\n",
       "        text-align: right;\n",
       "    }\n",
       "\n",
       "    .dataframe thead th {\n",
       "        text-align: left;\n",
       "    }\n",
       "\n",
       "    .dataframe tbody tr th {\n",
       "        vertical-align: top;\n",
       "    }\n",
       "</style>\n",
       "<table border=\"1\" class=\"dataframe\">\n",
       "  <thead>\n",
       "    <tr style=\"text-align: right;\">\n",
       "      <th></th>\n",
       "      <th></th>\n",
       "      <th>tmpf</th>\n",
       "      <th>relh</th>\n",
       "      <th>sped</th>\n",
       "      <th>mslp</th>\n",
       "      <th>p01i</th>\n",
       "      <th>vsby</th>\n",
       "      <th>gust_mph</th>\n",
       "      <th>skyc1</th>\n",
       "      <th>skyc2</th>\n",
       "      <th>skyc3</th>\n",
       "    </tr>\n",
       "    <tr>\n",
       "      <th>station</th>\n",
       "      <th>date</th>\n",
       "      <th></th>\n",
       "      <th></th>\n",
       "      <th></th>\n",
       "      <th></th>\n",
       "      <th></th>\n",
       "      <th></th>\n",
       "      <th></th>\n",
       "      <th></th>\n",
       "      <th></th>\n",
       "      <th></th>\n",
       "    </tr>\n",
       "  </thead>\n",
       "  <tbody>\n",
       "    <tr>\n",
       "      <th rowspan=\"5\" valign=\"top\">01M</th>\n",
       "      <th>2014-01-01 00:15:00</th>\n",
       "      <td>33.80</td>\n",
       "      <td>85.86</td>\n",
       "      <td>0.0</td>\n",
       "      <td>NaN</td>\n",
       "      <td>0.0</td>\n",
       "      <td>10.0</td>\n",
       "      <td>NaN</td>\n",
       "      <td>CLR</td>\n",
       "      <td>M</td>\n",
       "      <td>M</td>\n",
       "    </tr>\n",
       "    <tr>\n",
       "      <th>2014-01-01 00:35:00</th>\n",
       "      <td>33.44</td>\n",
       "      <td>87.11</td>\n",
       "      <td>0.0</td>\n",
       "      <td>NaN</td>\n",
       "      <td>0.0</td>\n",
       "      <td>10.0</td>\n",
       "      <td>NaN</td>\n",
       "      <td>CLR</td>\n",
       "      <td>M</td>\n",
       "      <td>M</td>\n",
       "    </tr>\n",
       "    <tr>\n",
       "      <th>2014-01-01 00:55:00</th>\n",
       "      <td>32.54</td>\n",
       "      <td>90.97</td>\n",
       "      <td>0.0</td>\n",
       "      <td>NaN</td>\n",
       "      <td>0.0</td>\n",
       "      <td>10.0</td>\n",
       "      <td>NaN</td>\n",
       "      <td>CLR</td>\n",
       "      <td>M</td>\n",
       "      <td>M</td>\n",
       "    </tr>\n",
       "    <tr>\n",
       "      <th>2014-01-01 01:15:00</th>\n",
       "      <td>31.82</td>\n",
       "      <td>93.65</td>\n",
       "      <td>0.0</td>\n",
       "      <td>NaN</td>\n",
       "      <td>0.0</td>\n",
       "      <td>10.0</td>\n",
       "      <td>NaN</td>\n",
       "      <td>CLR</td>\n",
       "      <td>M</td>\n",
       "      <td>M</td>\n",
       "    </tr>\n",
       "    <tr>\n",
       "      <th>2014-01-01 01:35:00</th>\n",
       "      <td>32.00</td>\n",
       "      <td>92.97</td>\n",
       "      <td>0.0</td>\n",
       "      <td>NaN</td>\n",
       "      <td>0.0</td>\n",
       "      <td>10.0</td>\n",
       "      <td>NaN</td>\n",
       "      <td>CLR</td>\n",
       "      <td>M</td>\n",
       "      <td>M</td>\n",
       "    </tr>\n",
       "  </tbody>\n",
       "</table>\n",
       "</div>"
      ],
      "text/plain": [
       "                              tmpf   relh  sped  mslp  p01i  vsby  gust_mph  \\\n",
       "station date                                                                  \n",
       "01M     2014-01-01 00:15:00  33.80  85.86   0.0   NaN   0.0  10.0       NaN   \n",
       "        2014-01-01 00:35:00  33.44  87.11   0.0   NaN   0.0  10.0       NaN   \n",
       "        2014-01-01 00:55:00  32.54  90.97   0.0   NaN   0.0  10.0       NaN   \n",
       "        2014-01-01 01:15:00  31.82  93.65   0.0   NaN   0.0  10.0       NaN   \n",
       "        2014-01-01 01:35:00  32.00  92.97   0.0   NaN   0.0  10.0       NaN   \n",
       "\n",
       "                            skyc1 skyc2 skyc3  \n",
       "station date                                   \n",
       "01M     2014-01-01 00:15:00   CLR     M     M  \n",
       "        2014-01-01 00:35:00   CLR     M     M  \n",
       "        2014-01-01 00:55:00   CLR     M     M  \n",
       "        2014-01-01 01:15:00   CLR     M     M  \n",
       "        2014-01-01 01:35:00   CLR     M     M  "
      ]
     },
     "execution_count": 3,
     "metadata": {},
     "output_type": "execute_result"
    }
   ],
   "source": [
    "weather.head()"
   ]
  },
  {
   "cell_type": "code",
   "execution_count": 4,
   "metadata": {},
   "outputs": [
    {
     "data": {
      "text/plain": [
       "<seaborn.axisgrid.FacetGrid at 0x7f9abc963710>"
      ]
     },
     "execution_count": 4,
     "metadata": {},
     "output_type": "execute_result"
    },
    {
     "data": {
      "image/png": "[encoded data removed]",
      "text/plain": [
       "<matplotlib.figure.Figure at 0x7f9abc902cf8>"
      ]
     },
     "metadata": {},
     "output_type": "display_data"
    }
   ],
   "source": [
    "airports = ['DSM', 'ORD', 'JFK', 'PDX']\n",
    "\n",
    "g =  sns.FacetGrid(weather.sort_index().loc[airports].reset_index(),\n",
    "                       col='station', hue='station', col_wrap=2, size=4)\n",
    "\n",
    "g.map(sns.regplot, 'sped', 'gust_mph')"
   ]
  },
  {
   "cell_type": "code",
   "execution_count": 5,
   "metadata": {},
   "outputs": [
    {
     "data": {
      "text/plain": [
       "Index(['ABE', 'ABI', 'ABQ', 'ABR', 'ABY', 'ACT', 'ACV', 'AEX', 'AGS', 'ALB',\n",
       "       ...\n",
       "       'TUL', 'TUS', 'TVC', 'TWF', 'TXK', 'TYR', 'TYS', 'VLD', 'VPS', 'XNA'],\n",
       "      dtype='object', length=267)"
      ]
     },
     "execution_count": 5,
     "metadata": {},
     "output_type": "execute_result"
    }
   ],
   "source": [
    "# find the set of airports that we have weather and flight information\n",
    "flights = pd.read_hdf('flights.h5', 'flights')\n",
    "\n",
    "weather_locs = weather.index.levels[0]\n",
    "\n",
    "origin_locs = flights.origin.cat.categories\n",
    "dest_locs = flights.dest.cat.categories\n",
    "\n",
    "airports = weather_locs & origin_locs & dest_locs\n",
    "\n",
    "airports"
   ]
  },
  {
   "cell_type": "code",
   "execution_count": 6,
   "metadata": {},
   "outputs": [
    {
     "name": "stdout",
     "output_type": "stream",
     "text": [
      "Weather, no flights:\n",
      "\t Index(['01M', '04V', '04W', '05U', '06D', '08D', '0A9', '0CO', '0E0', '0F2',\n",
      "       ...\n",
      "       'Y50', 'Y51', 'Y63', 'Y70', 'YIP', 'YKM', 'YKN', 'YNG', 'ZPH', 'ZZV'],\n",
      "      dtype='object', length=1909)\n",
      "\n",
      "Flights, no weather:\n",
      "\t Index(['ADK', 'ADQ', 'ANC', 'BET', 'BKG', 'BQN', 'BRW', 'CDV', 'CLD', 'FAI',\n",
      "       'FCA', 'GUM', 'HNL', 'ITO', 'JNU', 'KOA', 'KTN', 'LIH', 'MQT', 'OGG',\n",
      "       'OME', 'OTZ', 'PPG', 'PSE', 'PSG', 'SCC', 'SCE', 'SIT', 'SJU', 'STT',\n",
      "       'STX', 'WRG', 'YAK', 'YUM'],\n",
      "      dtype='object')\n",
      "\n",
      "Dropped Stations:\n",
      "\t Index(['01M', '04V', '04W', '05U', '06D', '08D', '0A9', '0CO', '0E0', '0F2',\n",
      "       ...\n",
      "       'Y63', 'Y70', 'YAK', 'YIP', 'YKM', 'YKN', 'YNG', 'YUM', 'ZPH', 'ZZV'],\n",
      "      dtype='object', length=1943)\n"
     ]
    }
   ],
   "source": [
    "print(\"Weather, no flights:\\n\\t\", weather_locs.difference(origin_locs | dest_locs), end='\\n\\n')\n",
    "\n",
    "print(\"Flights, no weather:\\n\\t\", (origin_locs | dest_locs).difference(weather_locs), end='\\n\\n')\n",
    "\n",
    "print(\"Dropped Stations:\\n\\t\", (origin_locs | dest_locs) ^ weather_locs)"
   ]
  },
  {
   "cell_type": "code",
   "execution_count": 7,
   "metadata": {},
   "outputs": [
    {
     "data": {
      "text/html": [
       "<div>\n",
       "<style>\n",
       "    .dataframe thead tr:only-child th {\n",
       "        text-align: right;\n",
       "    }\n",
       "\n",
       "    .dataframe thead th {\n",
       "        text-align: left;\n",
       "    }\n",
       "\n",
       "    .dataframe tbody tr th {\n",
       "        vertical-align: top;\n",
       "    }\n",
       "</style>\n",
       "<table border=\"1\" class=\"dataframe\">\n",
       "  <thead>\n",
       "    <tr style=\"text-align: right;\">\n",
       "      <th></th>\n",
       "      <th>tmpf</th>\n",
       "      <th>relh</th>\n",
       "      <th>sped</th>\n",
       "      <th>mslp</th>\n",
       "      <th>p01i</th>\n",
       "      <th>vsby</th>\n",
       "      <th>gust_mph</th>\n",
       "      <th>skyc1</th>\n",
       "      <th>skyc2</th>\n",
       "      <th>skyc3</th>\n",
       "    </tr>\n",
       "    <tr>\n",
       "      <th>date</th>\n",
       "      <th></th>\n",
       "      <th></th>\n",
       "      <th></th>\n",
       "      <th></th>\n",
       "      <th></th>\n",
       "      <th></th>\n",
       "      <th></th>\n",
       "      <th></th>\n",
       "      <th></th>\n",
       "      <th></th>\n",
       "    </tr>\n",
       "  </thead>\n",
       "  <tbody>\n",
       "    <tr>\n",
       "      <th>2014-01-01 00:54:00</th>\n",
       "      <td>10.94</td>\n",
       "      <td>72.79</td>\n",
       "      <td>10.4</td>\n",
       "      <td>1024.9</td>\n",
       "      <td>0.0</td>\n",
       "      <td>10.0</td>\n",
       "      <td>NaN</td>\n",
       "      <td>FEW</td>\n",
       "      <td>M</td>\n",
       "      <td>M</td>\n",
       "    </tr>\n",
       "    <tr>\n",
       "      <th>2014-01-01 01:54:00</th>\n",
       "      <td>10.94</td>\n",
       "      <td>72.79</td>\n",
       "      <td>11.5</td>\n",
       "      <td>1025.4</td>\n",
       "      <td>0.0</td>\n",
       "      <td>10.0</td>\n",
       "      <td>NaN</td>\n",
       "      <td>OVC</td>\n",
       "      <td>M</td>\n",
       "      <td>M</td>\n",
       "    </tr>\n",
       "    <tr>\n",
       "      <th>2014-01-01 02:54:00</th>\n",
       "      <td>10.94</td>\n",
       "      <td>72.79</td>\n",
       "      <td>8.1</td>\n",
       "      <td>1025.3</td>\n",
       "      <td>0.0</td>\n",
       "      <td>10.0</td>\n",
       "      <td>NaN</td>\n",
       "      <td>BKN</td>\n",
       "      <td>M</td>\n",
       "      <td>M</td>\n",
       "    </tr>\n",
       "    <tr>\n",
       "      <th>2014-01-01 03:54:00</th>\n",
       "      <td>10.94</td>\n",
       "      <td>72.79</td>\n",
       "      <td>9.2</td>\n",
       "      <td>1025.3</td>\n",
       "      <td>0.0</td>\n",
       "      <td>10.0</td>\n",
       "      <td>NaN</td>\n",
       "      <td>OVC</td>\n",
       "      <td>M</td>\n",
       "      <td>M</td>\n",
       "    </tr>\n",
       "    <tr>\n",
       "      <th>2014-01-01 04:54:00</th>\n",
       "      <td>10.04</td>\n",
       "      <td>72.69</td>\n",
       "      <td>9.2</td>\n",
       "      <td>1024.7</td>\n",
       "      <td>0.0</td>\n",
       "      <td>10.0</td>\n",
       "      <td>NaN</td>\n",
       "      <td>BKN</td>\n",
       "      <td>M</td>\n",
       "      <td>M</td>\n",
       "    </tr>\n",
       "  </tbody>\n",
       "</table>\n",
       "</div>"
      ],
      "text/plain": [
       "                      tmpf   relh  sped    mslp  p01i  vsby  gust_mph skyc1  \\\n",
       "date                                                                          \n",
       "2014-01-01 00:54:00  10.94  72.79  10.4  1024.9   0.0  10.0       NaN   FEW   \n",
       "2014-01-01 01:54:00  10.94  72.79  11.5  1025.4   0.0  10.0       NaN   OVC   \n",
       "2014-01-01 02:54:00  10.94  72.79   8.1  1025.3   0.0  10.0       NaN   BKN   \n",
       "2014-01-01 03:54:00  10.94  72.79   9.2  1025.3   0.0  10.0       NaN   OVC   \n",
       "2014-01-01 04:54:00  10.04  72.69   9.2  1024.7   0.0  10.0       NaN   BKN   \n",
       "\n",
       "                    skyc2 skyc3  \n",
       "date                             \n",
       "2014-01-01 00:54:00     M     M  \n",
       "2014-01-01 01:54:00     M     M  \n",
       "2014-01-01 02:54:00     M     M  \n",
       "2014-01-01 03:54:00     M     M  \n",
       "2014-01-01 04:54:00     M     M  "
      ]
     },
     "execution_count": 7,
     "metadata": {},
     "output_type": "execute_result"
    }
   ],
   "source": [
    "# using indexing\n",
    "weather.loc['DSM'].head()"
   ]
  },
  {
   "cell_type": "code",
   "execution_count": 8,
   "metadata": {},
   "outputs": [
    {
     "data": {
      "text/html": [
       "<div>\n",
       "<style>\n",
       "    .dataframe thead tr:only-child th {\n",
       "        text-align: right;\n",
       "    }\n",
       "\n",
       "    .dataframe thead th {\n",
       "        text-align: left;\n",
       "    }\n",
       "\n",
       "    .dataframe tbody tr th {\n",
       "        vertical-align: top;\n",
       "    }\n",
       "</style>\n",
       "<table border=\"1\" class=\"dataframe\">\n",
       "  <thead>\n",
       "    <tr style=\"text-align: right;\">\n",
       "      <th></th>\n",
       "      <th>station</th>\n",
       "      <th>date</th>\n",
       "      <th>tmpf</th>\n",
       "      <th>relh</th>\n",
       "      <th>sped</th>\n",
       "      <th>mslp</th>\n",
       "      <th>p01i</th>\n",
       "      <th>vsby</th>\n",
       "      <th>gust_mph</th>\n",
       "      <th>skyc1</th>\n",
       "      <th>skyc2</th>\n",
       "      <th>skyc3</th>\n",
       "    </tr>\n",
       "  </thead>\n",
       "  <tbody>\n",
       "    <tr>\n",
       "      <th>884855</th>\n",
       "      <td>DSM</td>\n",
       "      <td>2014-01-01 00:54:00</td>\n",
       "      <td>10.94</td>\n",
       "      <td>72.79</td>\n",
       "      <td>10.4</td>\n",
       "      <td>1024.9</td>\n",
       "      <td>0.0</td>\n",
       "      <td>10.0</td>\n",
       "      <td>NaN</td>\n",
       "      <td>FEW</td>\n",
       "      <td>M</td>\n",
       "      <td>M</td>\n",
       "    </tr>\n",
       "    <tr>\n",
       "      <th>884856</th>\n",
       "      <td>DSM</td>\n",
       "      <td>2014-01-01 01:54:00</td>\n",
       "      <td>10.94</td>\n",
       "      <td>72.79</td>\n",
       "      <td>11.5</td>\n",
       "      <td>1025.4</td>\n",
       "      <td>0.0</td>\n",
       "      <td>10.0</td>\n",
       "      <td>NaN</td>\n",
       "      <td>OVC</td>\n",
       "      <td>M</td>\n",
       "      <td>M</td>\n",
       "    </tr>\n",
       "    <tr>\n",
       "      <th>884857</th>\n",
       "      <td>DSM</td>\n",
       "      <td>2014-01-01 02:54:00</td>\n",
       "      <td>10.94</td>\n",
       "      <td>72.79</td>\n",
       "      <td>8.1</td>\n",
       "      <td>1025.3</td>\n",
       "      <td>0.0</td>\n",
       "      <td>10.0</td>\n",
       "      <td>NaN</td>\n",
       "      <td>BKN</td>\n",
       "      <td>M</td>\n",
       "      <td>M</td>\n",
       "    </tr>\n",
       "    <tr>\n",
       "      <th>884858</th>\n",
       "      <td>DSM</td>\n",
       "      <td>2014-01-01 03:54:00</td>\n",
       "      <td>10.94</td>\n",
       "      <td>72.79</td>\n",
       "      <td>9.2</td>\n",
       "      <td>1025.3</td>\n",
       "      <td>0.0</td>\n",
       "      <td>10.0</td>\n",
       "      <td>NaN</td>\n",
       "      <td>OVC</td>\n",
       "      <td>M</td>\n",
       "      <td>M</td>\n",
       "    </tr>\n",
       "    <tr>\n",
       "      <th>884859</th>\n",
       "      <td>DSM</td>\n",
       "      <td>2014-01-01 04:54:00</td>\n",
       "      <td>10.04</td>\n",
       "      <td>72.69</td>\n",
       "      <td>9.2</td>\n",
       "      <td>1024.7</td>\n",
       "      <td>0.0</td>\n",
       "      <td>10.0</td>\n",
       "      <td>NaN</td>\n",
       "      <td>BKN</td>\n",
       "      <td>M</td>\n",
       "      <td>M</td>\n",
       "    </tr>\n",
       "  </tbody>\n",
       "</table>\n",
       "</div>"
      ],
      "text/plain": [
       "       station                date   tmpf   relh  sped    mslp  p01i  vsby  \\\n",
       "884855     DSM 2014-01-01 00:54:00  10.94  72.79  10.4  1024.9   0.0  10.0   \n",
       "884856     DSM 2014-01-01 01:54:00  10.94  72.79  11.5  1025.4   0.0  10.0   \n",
       "884857     DSM 2014-01-01 02:54:00  10.94  72.79   8.1  1025.3   0.0  10.0   \n",
       "884858     DSM 2014-01-01 03:54:00  10.94  72.79   9.2  1025.3   0.0  10.0   \n",
       "884859     DSM 2014-01-01 04:54:00  10.04  72.69   9.2  1024.7   0.0  10.0   \n",
       "\n",
       "        gust_mph skyc1 skyc2 skyc3  \n",
       "884855       NaN   FEW     M     M  \n",
       "884856       NaN   OVC     M     M  \n",
       "884857       NaN   BKN     M     M  \n",
       "884858       NaN   OVC     M     M  \n",
       "884859       NaN   BKN     M     M  "
      ]
     },
     "execution_count": 8,
     "metadata": {},
     "output_type": "execute_result"
    }
   ],
   "source": [
    "# above indexing can be achieved with boolean masks\n",
    "weather2 = weather.reset_index()\n",
    "weather2[weather2['station'] == 'DSM'].head()"
   ]
  },
  {
   "cell_type": "code",
   "execution_count": null,
   "metadata": {
    "collapsed": true
   },
   "outputs": [],
   "source": [
    "# Indexes for Easier Arithmetic, Analysis"
   ]
  },
  {
   "cell_type": "code",
   "execution_count": 10,
   "metadata": {},
   "outputs": [
    {
     "data": {
      "text/html": [
       "<div>\n",
       "<style>\n",
       "    .dataframe thead tr:only-child th {\n",
       "        text-align: right;\n",
       "    }\n",
       "\n",
       "    .dataframe thead th {\n",
       "        text-align: left;\n",
       "    }\n",
       "\n",
       "    .dataframe tbody tr th {\n",
       "        vertical-align: top;\n",
       "    }\n",
       "</style>\n",
       "<table border=\"1\" class=\"dataframe\">\n",
       "  <thead>\n",
       "    <tr style=\"text-align: right;\">\n",
       "      <th></th>\n",
       "      <th></th>\n",
       "      <th>tmpf</th>\n",
       "    </tr>\n",
       "    <tr>\n",
       "      <th>station</th>\n",
       "      <th>date</th>\n",
       "      <th></th>\n",
       "    </tr>\n",
       "  </thead>\n",
       "  <tbody>\n",
       "    <tr>\n",
       "      <th rowspan=\"5\" valign=\"top\">01M</th>\n",
       "      <th>2014-01-01 00:15:00</th>\n",
       "      <td>1.0</td>\n",
       "    </tr>\n",
       "    <tr>\n",
       "      <th>2014-01-01 00:35:00</th>\n",
       "      <td>0.8</td>\n",
       "    </tr>\n",
       "    <tr>\n",
       "      <th>2014-01-01 00:55:00</th>\n",
       "      <td>0.3</td>\n",
       "    </tr>\n",
       "    <tr>\n",
       "      <th>2014-01-01 01:15:00</th>\n",
       "      <td>-0.1</td>\n",
       "    </tr>\n",
       "    <tr>\n",
       "      <th>2014-01-01 01:35:00</th>\n",
       "      <td>0.0</td>\n",
       "    </tr>\n",
       "  </tbody>\n",
       "</table>\n",
       "</div>"
      ],
      "text/plain": [
       "                             tmpf\n",
       "station date                     \n",
       "01M     2014-01-01 00:15:00   1.0\n",
       "        2014-01-01 00:35:00   0.8\n",
       "        2014-01-01 00:55:00   0.3\n",
       "        2014-01-01 01:15:00  -0.1\n",
       "        2014-01-01 01:35:00   0.0"
      ]
     },
     "execution_count": 10,
     "metadata": {},
     "output_type": "execute_result"
    }
   ],
   "source": [
    "# With indices\n",
    "temp = weather['tmpf']\n",
    "\n",
    "c = (temp - 32) * 5 / 9\n",
    "c.to_frame().head()"
   ]
  },
  {
   "cell_type": "code",
   "execution_count": 11,
   "metadata": {},
   "outputs": [
    {
     "data": {
      "text/html": [
       "<div>\n",
       "<style>\n",
       "    .dataframe thead tr:only-child th {\n",
       "        text-align: right;\n",
       "    }\n",
       "\n",
       "    .dataframe thead th {\n",
       "        text-align: left;\n",
       "    }\n",
       "\n",
       "    .dataframe tbody tr th {\n",
       "        vertical-align: top;\n",
       "    }\n",
       "</style>\n",
       "<table border=\"1\" class=\"dataframe\">\n",
       "  <thead>\n",
       "    <tr style=\"text-align: right;\">\n",
       "      <th></th>\n",
       "      <th>station</th>\n",
       "      <th>date</th>\n",
       "      <th>tmpf</th>\n",
       "    </tr>\n",
       "  </thead>\n",
       "  <tbody>\n",
       "    <tr>\n",
       "      <th>0</th>\n",
       "      <td>01M</td>\n",
       "      <td>2014-01-01 00:15:00</td>\n",
       "      <td>1.0</td>\n",
       "    </tr>\n",
       "    <tr>\n",
       "      <th>1</th>\n",
       "      <td>01M</td>\n",
       "      <td>2014-01-01 00:35:00</td>\n",
       "      <td>0.8</td>\n",
       "    </tr>\n",
       "    <tr>\n",
       "      <th>2</th>\n",
       "      <td>01M</td>\n",
       "      <td>2014-01-01 00:55:00</td>\n",
       "      <td>0.3</td>\n",
       "    </tr>\n",
       "    <tr>\n",
       "      <th>3</th>\n",
       "      <td>01M</td>\n",
       "      <td>2014-01-01 01:15:00</td>\n",
       "      <td>-0.1</td>\n",
       "    </tr>\n",
       "    <tr>\n",
       "      <th>4</th>\n",
       "      <td>01M</td>\n",
       "      <td>2014-01-01 01:35:00</td>\n",
       "      <td>0.0</td>\n",
       "    </tr>\n",
       "  </tbody>\n",
       "</table>\n",
       "</div>"
      ],
      "text/plain": [
       "  station                date  tmpf\n",
       "0     01M 2014-01-01 00:15:00   1.0\n",
       "1     01M 2014-01-01 00:35:00   0.8\n",
       "2     01M 2014-01-01 00:55:00   0.3\n",
       "3     01M 2014-01-01 01:15:00  -0.1\n",
       "4     01M 2014-01-01 01:35:00   0.0"
      ]
     },
     "execution_count": 11,
     "metadata": {},
     "output_type": "execute_result"
    }
   ],
   "source": [
    "# the above without indices\n",
    "temp2 = weather.reset_index()[['station', 'date', 'tmpf']]\n",
    "\n",
    "temp2['tmpf'] = (temp2['tmpf'] - 32) * 5 / 9\n",
    "temp2.head()"
   ]
  },
  {
   "cell_type": "code",
   "execution_count": 12,
   "metadata": {
    "collapsed": true
   },
   "outputs": [],
   "source": [
    "# Indexes for Alignment"
   ]
  },
  {
   "cell_type": "code",
   "execution_count": null,
   "metadata": {
    "collapsed": true
   },
   "outputs": [],
   "source": [
    "    "
   ]
  }
 ],
 "metadata": {
  "kernelspec": {
   "display_name": "Python 3",
   "language": "python",
   "name": "python3"
  },
  "language_info": {
   "codemirror_mode": {
    "name": "ipython",
    "version": 3
   },
   "file_extension": ".py",
   "mimetype": "text/x-python",
   "name": "python",
   "nbconvert_exporter": "python",
   "pygments_lexer": "ipython3",
   "version": "3.6.3"
  }
 },
 "nbformat": 4,
 "nbformat_minor": 2
}
