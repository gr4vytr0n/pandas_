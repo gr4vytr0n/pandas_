{
 "cells": [
  {
   "cell_type": "code",
   "execution_count": 55,
   "metadata": {
    "collapsed": true
   },
   "outputs": [],
   "source": [
    "import requests\n",
    "import json\n",
    "import glob\n",
    "import datetime\n",
    "from io import StringIO\n",
    "import numpy as np\n",
    "import pandas as pd\n",
    "from pandas.io.json import json_normalize\n",
    "import matplotlib.pyplot as plt\n",
    "import seaborn as sns\n",
    "\n",
    "%matplotlib inline\n",
    "sns.set_style('ticks')"
   ]
  },
  {
   "cell_type": "code",
   "execution_count": 56,
   "metadata": {
    "collapsed": true
   },
   "outputs": [],
   "source": [
    "# ids (states) for sensor URL parameters\n",
    "states = 'AK AL AR AZ CA CO CT DE FL GA HI IA ID IL IN KS KY LA MA MD ME \\\n",
    " MI MN MO MS MT NC ND NE NH NJ NM NV NY OH OK OR PA RI SC SD TN TX UT VA VT \\\n",
    " WA WI WV WY'.split()"
   ]
  },
  {
   "cell_type": "code",
   "execution_count": 57,
   "metadata": {},
   "outputs": [],
   "source": [
    "# create network ids from list of state ids\n",
    "networks = ['AWOS'] + ['{}_ASOS'.format(state) for state in states]"
   ]
  },
  {
   "cell_type": "code",
   "execution_count": 58,
   "metadata": {},
   "outputs": [],
   "source": [
    "def get_weather(stations, start=pd.Timestamp('2014-01-01'), end=pd.Timestamp('2014-01-31')):\n",
    "    '''\n",
    "        fetch weather from MESOnet between start and end dates\n",
    "    '''\n",
    "    \n",
    "    url = (\"http://mesonet.agron.iastate.edu/cgi-bin/request/asos.py?\"\n",
    "           \"&data=tmpf&data=relh&data=sped&data=mslp&data=p01i&data=vsby&data=gust_mph&data=skyc1&data=skyc2&data=skyc3\"\n",
    "           \"&tz=Etc/UTC&format=comma&latlon=no\"\n",
    "           \"&{start:year1=%Y&month1=%m&day1=%d}\"\n",
    "           \"&{end:year2=%Y&month2=%m&day2=%d}&{stations}\")\n",
    "\n",
    "    stations = '&'.join('station={}'.format(s) for s in stations)\n",
    "\n",
    "    weather = (pd.read_csv(url.format(start=start, end=end, stations=stations),\n",
    "                           comment='#'))\n",
    "    \n",
    "    return weather"
   ]
  },
  {
   "cell_type": "code",
   "execution_count": 59,
   "metadata": {
    "collapsed": true
   },
   "outputs": [],
   "source": [
    "def get_ids(network):\n",
    "    '''\n",
    "        get sensor id from network\n",
    "    '''\n",
    "    \n",
    "    url = 'http://mesonet.agron.iastate.edu/geojson/network.php?network={}'\n",
    "    \n",
    "    r = requests.get(url.format(network))\n",
    "    \n",
    "    md = json_normalize(r.json()['features'])\n",
    "    \n",
    "    md['network'] = network\n",
    "    \n",
    "    return md"
   ]
  },
  {
   "cell_type": "code",
   "execution_count": 60,
   "metadata": {},
   "outputs": [],
   "source": [
    "# get sensor ids\n",
    "ids = pd.concat([get_ids(network) for network in networks], ignore_index=True)"
   ]
  },
  {
   "cell_type": "code",
   "execution_count": 61,
   "metadata": {
    "collapsed": true
   },
   "outputs": [],
   "source": [
    "# group ids by network\n",
    "id_groups = ids.groupby('network')"
   ]
  },
  {
   "cell_type": "code",
   "execution_count": null,
   "metadata": {},
   "outputs": [
    {
     "name": "stdout",
     "output_type": "stream",
     "text": [
      "0/51\r"
     ]
    }
   ],
   "source": [
    "# create csv files for weather data\n",
    "import os\n",
    "\n",
    "os.makedirs(\"weather\", exist_ok=True)\n",
    "\n",
    "for i, (k, v) in enumerate(id_groups):\n",
    "    print(\"{}/{}\".format(i, len(networks)), end='\\r')\n",
    "    weather = get_weather(v['id'])\n",
    "    weather.to_csv(\"weather/{}.csv\".format(k))"
   ]
  },
  {
   "cell_type": "code",
   "execution_count": 63,
   "metadata": {},
   "outputs": [
    {
     "name": "stdout",
     "output_type": "stream",
     "text": [
      "AK_ASOS.csv  FL_ASOS.csv  LA_ASOS.csv  NC_ASOS.csv  OK_ASOS.csv  VA_ASOS.csv\r\n",
      "AL_ASOS.csv  GA_ASOS.csv  MA_ASOS.csv  ND_ASOS.csv  OR_ASOS.csv  VT_ASOS.csv\r\n",
      "AR_ASOS.csv  HI_ASOS.csv  MD_ASOS.csv  NE_ASOS.csv  PA_ASOS.csv  WA_ASOS.csv\r\n",
      "AWOS.csv     IA_ASOS.csv  ME_ASOS.csv  NH_ASOS.csv  RI_ASOS.csv  WI_ASOS.csv\r\n",
      "AZ_ASOS.csv  ID_ASOS.csv  MI_ASOS.csv  NJ_ASOS.csv  SC_ASOS.csv  WV_ASOS.csv\r\n",
      "CA_ASOS.csv  IL_ASOS.csv  MN_ASOS.csv  NM_ASOS.csv  SD_ASOS.csv  WY_ASOS.csv\r\n",
      "CO_ASOS.csv  IN_ASOS.csv  MO_ASOS.csv  NV_ASOS.csv  TN_ASOS.csv\r\n",
      "CT_ASOS.csv  KS_ASOS.csv  MS_ASOS.csv  NY_ASOS.csv  TX_ASOS.csv\r\n",
      "DE_ASOS.csv  KY_ASOS.csv  MT_ASOS.csv  OH_ASOS.csv  UT_ASOS.csv\r\n"
     ]
    }
   ],
   "source": [
    "weather = pd.concat([\n",
    "    pd.read_csv(f, parse_dates='date', index_col=['station', 'date'])\n",
    "    for f in glob.glob('weather/*.csv')])\n",
    "\n",
    "weather.to_hdf(\"weather.h5\", \"weather\")"
   ]
  },
  {
   "cell_type": "code",
   "execution_count": null,
   "metadata": {
    "collapsed": true
   },
   "outputs": [],
   "source": []
  }
 ],
 "metadata": {
  "kernelspec": {
   "display_name": "Python 3",
   "language": "python",
   "name": "python3"
  },
  "language_info": {
   "codemirror_mode": {
    "name": "ipython",
    "version": 3
   },
   "file_extension": ".py",
   "mimetype": "text/x-python",
   "name": "python",
   "nbconvert_exporter": "python",
   "pygments_lexer": "ipython3",
   "version": "3.6.3"
  }
 },
 "nbformat": 4,
 "nbformat_minor": 2
}
