{
 "cells": [
  {
   "cell_type": "code",
   "execution_count": 55,
   "metadata": {
    "collapsed": true
   },
   "outputs": [],
   "source": [
    "import requests\n",
    "import json\n",
    "import glob\n",
    "import datetime\n",
    "from io import StringIO\n",
    "import numpy as np\n",
    "import pandas as pd\n",
    "from pandas.io.json import json_normalize\n",
    "import matplotlib.pyplot as plt\n",
    "import seaborn as sns\n",
    "\n",
    "%matplotlib inline\n",
    "sns.set_style('ticks')"
   ]
  },
  {
   "cell_type": "code",
   "execution_count": 56,
   "metadata": {
    "collapsed": true
   },
   "outputs": [],
   "source": [
    "# ids (states) for sensor URL parameters\n",
    "states = 'AK AL AR AZ CA CO CT DE FL GA HI IA ID IL IN KS KY LA MA MD ME \\\n",
    " MI MN MO MS MT NC ND NE NH NJ NM NV NY OH OK OR PA RI SC SD TN TX UT VA VT \\\n",
    " WA WI WV WY'.split()"
   ]
  },
  {
   "cell_type": "code",
   "execution_count": 57,
   "metadata": {},
   "outputs": [],
   "source": [
    "# create network ids from list of state ids\n",
    "networks = ['AWOS'] + ['{}_ASOS'.format(state) for state in states]"
   ]
  },
  {
   "cell_type": "code",
   "execution_count": 65,
   "metadata": {
    "collapsed": true
   },
   "outputs": [],
   "source": [
    "def get_weather(stations, start=pd.Timestamp('2014-01-01'), end=pd.Timestamp('2014-01-31')):\n",
    "    '''\n",
    "        fetch weather from MESOnet between start and end dates\n",
    "    '''\n",
    "    \n",
    "    url = (\"http://mesonet.agron.iastate.edu/cgi-bin/request/asos.py?\"\n",
    "           \"&data=tmpf&data=relh&data=sped&data=mslp&data=p01i&data=vsby&data=gust_mph&data=skyc1&data=skyc2&data=skyc3\"\n",
    "           \"&tz=Etc/UTC&format=comma&latlon=no\"\n",
    "           \"&{start:year1=%Y&month1=%m&day1=%d}\"\n",
    "           \"&{end:year2=%Y&month2=%m&day2=%d}&{stations}\")\n",
    "\n",
    "    stations = '&'.join('station={}'.format(s) for s in stations)\n",
    "\n",
    "    weather = (pd.read_csv(url.format(start=start, end=end, stations=stations),\n",
    "                           comment='#')\n",
    "                 .rename(columns={'valid': 'date'})\n",
    "                 .rename(columns=str.strip)\n",
    "                 .assign(date=lambda df: pd.to_datetime(df['date']))\n",
    "                 .set_index(['station', 'date'])\n",
    "                 .sort_index())\n",
    "    \n",
    "    float_cols = ['tmpf', 'relh', 'sped', 'mslp', 'p01i', 'vsby', \"gust_mph\"]\n",
    "    weather[float_cols] = weather[float_cols].apply(pd.to_numeric, errors=\"coerce\")\n",
    "    \n",
    "    return weather"
   ]
  },
  {
   "cell_type": "code",
   "execution_count": 66,
   "metadata": {
    "collapsed": true
   },
   "outputs": [],
   "source": [
    "def get_ids(network):\n",
    "    '''\n",
    "        get sensor id from network\n",
    "    '''\n",
    "    \n",
    "    url = 'http://mesonet.agron.iastate.edu/geojson/network.php?network={}'\n",
    "    \n",
    "    r = requests.get(url.format(network))\n",
    "    \n",
    "    md = json_normalize(r.json()['features'])\n",
    "    \n",
    "    md['network'] = network\n",
    "    \n",
    "    return md"
   ]
  },
  {
   "cell_type": "code",
   "execution_count": 60,
   "metadata": {},
   "outputs": [],
   "source": [
    "# get sensor ids\n",
    "ids = pd.concat([get_ids(network) for network in networks], ignore_index=True)"
   ]
  },
  {
   "cell_type": "code",
   "execution_count": 61,
   "metadata": {
    "collapsed": true
   },
   "outputs": [],
   "source": [
    "# group ids by network\n",
    "id_groups = ids.groupby('network')"
   ]
  },
  {
   "cell_type": "code",
   "execution_count": 67,
   "metadata": {},
   "outputs": [
    {
     "name": "stdout",
     "output_type": "stream",
     "text": [
      "0/51\r"
     ]
    },
    {
     "name": "stderr",
     "output_type": "stream",
     "text": [
      "/home/gr4vy/anaconda3/lib/python3.6/site-packages/IPython/core/interactiveshell.py:2802: DtypeWarning: Columns (6) have mixed types. Specify dtype option on import or set low_memory=False.\n",
      "  if self.run_code(code, result):\n"
     ]
    },
    {
     "name": "stdout",
     "output_type": "stream",
     "text": [
      "23/51\r"
     ]
    },
    {
     "name": "stderr",
     "output_type": "stream",
     "text": [
      "/home/gr4vy/anaconda3/lib/python3.6/site-packages/IPython/core/interactiveshell.py:2802: DtypeWarning: Columns (2,3,4) have mixed types. Specify dtype option on import or set low_memory=False.\n",
      "  if self.run_code(code, result):\n"
     ]
    },
    {
     "name": "stdout",
     "output_type": "stream",
     "text": [
      "50/51\r"
     ]
    }
   ],
   "source": [
    "# create csv files for weather data\n",
    "import os\n",
    "\n",
    "os.makedirs(\"weather\", exist_ok=True)\n",
    "\n",
    "for i, (k, v) in enumerate(id_groups):\n",
    "    print(\"{}/{}\".format(i, len(networks)), end='\\r')\n",
    "    weather = get_weather(v['id'])\n",
    "    weather.to_csv(\"weather/{}.csv\".format(k))"
   ]
  },
  {
   "cell_type": "code",
   "execution_count": 69,
   "metadata": {},
   "outputs": [],
   "source": [
    "weather = pd.concat([\n",
    "    pd.read_csv(f, parse_dates=['date'], index_col=['station', 'date'])\n",
    "    for f in glob.glob('weather/*.csv')])\n",
    "\n",
    "weather.to_hdf(\"weather.h5\", \"weather\")"
   ]
  },
  {
   "cell_type": "code",
   "execution_count": null,
   "metadata": {
    "collapsed": true
   },
   "outputs": [],
   "source": [
    "!ls weather/\n"
   ]
  }
 ],
 "metadata": {
  "kernelspec": {
   "display_name": "Python 3",
   "language": "python",
   "name": "python3"
  },
  "language_info": {
   "codemirror_mode": {
    "name": "ipython",
    "version": 3
   },
   "file_extension": ".py",
   "mimetype": "text/x-python",
   "name": "python",
   "nbconvert_exporter": "python",
   "pygments_lexer": "ipython3",
   "version": "3.6.3"
  }
 },
 "nbformat": 4,
 "nbformat_minor": 2
}
