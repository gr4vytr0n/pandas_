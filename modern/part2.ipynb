{
 "cells": [
  {
   "cell_type": "code",
   "execution_count": 1,
   "metadata": {
    "collapsed": true
   },
   "outputs": [],
   "source": [
    "import pandas as pd"
   ]
  },
  {
   "cell_type": "code",
   "execution_count": 2,
   "metadata": {
    "collapsed": true
   },
   "outputs": [],
   "source": [
    "# mehod chaining in pandas"
   ]
  },
  {
   "cell_type": "code",
   "execution_count": 20,
   "metadata": {},
   "outputs": [],
   "source": [
    "# method chain for dealing with loading dataset into a DataFrame\n",
    "def read(fp):\n",
    "    '''\n",
    "        read dataset into DataFrame -- process dataset for use\n",
    "    '''\n",
    "    \n",
    "    df = (pd.read_csv(fp)\n",
    "            .rename(columns=str.lower)\n",
    "            .drop('unnamed: 36', axis=1)\n",
    "            .pipe(extract_city_names)\n",
    "            .pipe(time_to_datetime, ['dep_time', 'arr_time', 'crs_arr_time', 'crs_dep_time']))\n",
    "    \n",
    "    return df\n",
    "\n",
    "def extract_city_names(df):\n",
    "    '''\n",
    "        Chicago, IL to Chicago\n",
    "    '''\n",
    "    \n",
    "    cols = ['origin_city_name', 'dest_city_name']\n",
    "    city = df[cols].apply(lambda x: x.str.extract('(.*), \\w{2}', expand=False))\n",
    "    df = df.copy()\n",
    "    df[cols] = city\n",
    "    \n",
    "    return df\n",
    "\n",
    "def time_to_datetime(df, cols):\n",
    "    '''\n",
    "        convert all columns with dates as strings to dates as datetimes\n",
    "    '''\n",
    "    \n",
    "    df = df.copy()\n",
    "    \n",
    "    def converter(col):\n",
    "        '''\n",
    "            converts dates\n",
    "        '''\n",
    "        \n",
    "        timepart = (col.astype(str)\n",
    "                       .str.replace('\\.0$', '') # NaNs force float dtype\n",
    "                       .str.pad(4, fillchar='0'))\n",
    "        \n",
    "        return pd.to_datetime(df['fl_date'] + ' ' +\n",
    "                                 timepart.str.slice(0, 2) + ':' +\n",
    "                                 timepart.str.slice(2, 4),\n",
    "                                 errors='coerce')\n",
    "    \n",
    "    df[cols] = df[cols].apply(converter)\n",
    "    \n",
    "    return df"
   ]
  },
  {
   "cell_type": "code",
   "execution_count": 21,
   "metadata": {},
   "outputs": [],
   "source": [
    "df = read('856263442_T_ONTIME.csv')"
   ]
  },
  {
   "cell_type": "code",
   "execution_count": 27,
   "metadata": {},
   "outputs": [
    {
     "name": "stdout",
     "output_type": "stream",
     "text": [
      "<class 'pandas.core.frame.DataFrame'>\n",
      "RangeIndex: 471949 entries, 0 to 471948\n",
      "Data columns (total 36 columns):\n",
      "fl_date                  471949 non-null object\n",
      "unique_carrier           471949 non-null object\n",
      "airline_id               471949 non-null int64\n",
      "tail_num                 467903 non-null object\n",
      "fl_num                   471949 non-null int64\n",
      "origin_airport_id        471949 non-null int64\n",
      "origin_airport_seq_id    471949 non-null int64\n",
      "origin_city_market_id    471949 non-null int64\n",
      "origin                   471949 non-null object\n",
      "origin_city_name         471949 non-null object\n",
      "origin_state_nm          471949 non-null object\n",
      "dest_airport_id          471949 non-null int64\n",
      "dest_airport_seq_id      471949 non-null int64\n",
      "dest_city_market_id      471949 non-null int64\n",
      "dest                     471949 non-null object\n",
      "dest_city_name           471949 non-null object\n",
      "dest_state_nm            471949 non-null object\n",
      "crs_dep_time             471949 non-null datetime64[ns]\n",
      "dep_time                 441586 non-null datetime64[ns]\n",
      "dep_delay                441622 non-null float64\n",
      "taxi_out                 441266 non-null float64\n",
      "wheels_off               441266 non-null float64\n",
      "wheels_on                440453 non-null float64\n",
      "taxi_in                  440453 non-null float64\n",
      "crs_arr_time             471949 non-null datetime64[ns]\n",
      "arr_time                 440302 non-null datetime64[ns]\n",
      "arr_delay                439620 non-null float64\n",
      "cancelled                471949 non-null float64\n",
      "cancellation_code        30852 non-null object\n",
      "diverted                 471949 non-null float64\n",
      "distance                 471949 non-null float64\n",
      "carrier_delay            119994 non-null float64\n",
      "weather_delay            119994 non-null float64\n",
      "nas_delay                119994 non-null float64\n",
      "security_delay           119994 non-null float64\n",
      "late_aircraft_delay      119994 non-null float64\n",
      "dtypes: datetime64[ns](4), float64(14), int64(8), object(10)\n",
      "memory usage: 129.6+ MB\n"
     ]
    }
   ],
   "source": [
    "df.info()"
   ]
  },
  {
   "cell_type": "code",
   "execution_count": null,
   "metadata": {
    "collapsed": true
   },
   "outputs": [],
   "source": []
  }
 ],
 "metadata": {
  "kernelspec": {
   "display_name": "Python 3",
   "language": "python",
   "name": "python3"
  },
  "language_info": {
   "codemirror_mode": {
    "name": "ipython",
    "version": 3
   },
   "file_extension": ".py",
   "mimetype": "text/x-python",
   "name": "python",
   "nbconvert_exporter": "python",
   "pygments_lexer": "ipython3",
   "version": "3.6.3"
  }
 },
 "nbformat": 4,
 "nbformat_minor": 2
}
