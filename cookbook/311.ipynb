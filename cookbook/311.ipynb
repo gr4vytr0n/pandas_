{
 "cells": [
  {
   "cell_type": "code",
   "execution_count": 3,
   "metadata": {
    "scrolled": true
   },
   "outputs": [
    {
     "name": "stderr",
     "output_type": "stream",
     "text": [
      "/home/gr4vy/anaconda3/lib/python3.6/site-packages/IPython/core/interactiveshell.py:2698: DtypeWarning: Columns (8) have mixed types. Specify dtype option on import or set low_memory=False.\n",
      "  interactivity=interactivity, compiler=compiler, result=result)\n"
     ]
    }
   ],
   "source": [
    "df = pd.read_csv('311.csv')"
   ]
  },
  {
   "cell_type": "code",
   "execution_count": 14,
   "metadata": {
    "collapsed": true,
    "scrolled": true
   },
   "outputs": [],
   "source": [
    "noisey = df['Complaint Type'] == 'Noise - Street/Sidewalk'"
   ]
  },
  {
   "cell_type": "code",
   "execution_count": 17,
   "metadata": {
    "collapsed": true
   },
   "outputs": [],
   "source": [
    "noise_complaints = df[noisey]"
   ]
  },
  {
   "cell_type": "code",
   "execution_count": 19,
   "metadata": {
    "collapsed": true
   },
   "outputs": [],
   "source": [
    "noise_complaints_counts = noise_complaints['Borough'].value_counts()"
   ]
  },
  {
   "cell_type": "code",
   "execution_count": 20,
   "metadata": {},
   "outputs": [
    {
     "data": {
      "text/plain": [
       "MANHATTAN        917\n",
       "BROOKLYN         456\n",
       "BRONX            292\n",
       "QUEENS           226\n",
       "STATEN ISLAND     36\n",
       "Unspecified        1\n",
       "Name: Borough, dtype: int64"
      ]
     },
     "execution_count": 20,
     "metadata": {},
     "output_type": "execute_result"
    }
   ],
   "source": [
    "noise_complaints_counts"
   ]
  },
  {
   "cell_type": "code",
   "execution_count": 110,
   "metadata": {
    "collapsed": true
   },
   "outputs": [],
   "source": [
    "complaint_counts = df['Borough'].value_counts()"
   ]
  },
  {
   "cell_type": "code",
   "execution_count": 111,
   "metadata": {
    "collapsed": true
   },
   "outputs": [],
   "source": [
    "noisey_ratio = noise_complaints_counts / complaint_counts"
   ]
  },
  {
   "cell_type": "code",
   "execution_count": 112,
   "metadata": {},
   "outputs": [
    {
     "data": {
      "text/plain": [
       "BRONX            0.014833\n",
       "BROOKLYN         0.013864\n",
       "MANHATTAN        0.037755\n",
       "QUEENS           0.010143\n",
       "STATEN ISLAND    0.007474\n",
       "Unspecified      0.000141\n",
       "Name: Borough, dtype: float64"
      ]
     },
     "execution_count": 112,
     "metadata": {},
     "output_type": "execute_result"
    }
   ],
   "source": [
    "noisey_ratio"
   ]
  },
  {
   "cell_type": "code",
   "execution_count": 113,
   "metadata": {},
   "outputs": [
    {
     "data": {
      "text/plain": [
       "<matplotlib.axes._subplots.AxesSubplot at 0x7f22a1fe4668>"
      ]
     },
     "execution_count": 113,
     "metadata": {},
     "output_type": "execute_result"
    },
    {
     "data": {
      "image/png": "[encoded data removed]",
      "text/plain": [
       "<matplotlib.figure.Figure at 0x7f22d6b57a20>"
      ]
     },
     "metadata": {},
     "output_type": "display_data"
    }
   ],
   "source": [
    "noisey_ratio.plot(kind='bar')"
   ]
  },
  {
   "cell_type": "code",
   "execution_count": 21,
   "metadata": {
    "collapsed": true
   },
   "outputs": [],
   "source": [
    "na_values = ['NO CLUE', 'N/A', '0']\n",
    "requests = pd.read_csv('311.csv', na_values=na_values, dtype={'Incident Zip': str})"
   ]
  },
  {
   "cell_type": "code",
   "execution_count": 22,
   "metadata": {},
   "outputs": [
    {
     "data": {
      "text/plain": [
       "5"
      ]
     },
     "execution_count": 22,
     "metadata": {},
     "output_type": "execute_result"
    }
   ],
   "source": [
    "rows_with_dashes = requests['Incident Zip'].str.contains('-').fillna(False)\n",
    "len(requests[rows_with_dashes])"
   ]
  },
  {
   "cell_type": "code",
   "execution_count": 151,
   "metadata": {},
   "outputs": [
    {
     "data": {
      "text/plain": [
       "array(['77092-2016', '55164-0737', '000000', '11549-3650', '29616-0759',\n",
       "       '35209-3114'], dtype=object)"
      ]
     },
     "execution_count": 151,
     "metadata": {},
     "output_type": "execute_result"
    }
   ],
   "source": [
    "long_zipcodes = requests['Incident Zip'].str.len() > 5\n",
    "requests['Incident Zip'][long_zipcodes].unique()"
   ]
  },
  {
   "cell_type": "code",
   "execution_count": 152,
   "metadata": {
    "collapsed": true
   },
   "outputs": [],
   "source": [
    "requests['Incident Zip'] = requests['Incident Zip'].str.slice(0, 5)"
   ]
  },
  {
   "cell_type": "code",
   "execution_count": 155,
   "metadata": {
    "collapsed": true
   },
   "outputs": [],
   "source": [
    "zero_zips = requests['Incident Zip'] == '00000'"
   ]
  },
  {
   "cell_type": "code",
   "execution_count": 156,
   "metadata": {
    "collapsed": true
   },
   "outputs": [],
   "source": [
    "requests.loc[zero_zips, 'Incident Zip'] = np.nan"
   ]
  },
  {
   "cell_type": "code",
   "execution_count": 175,
   "metadata": {},
   "outputs": [
    {
     "data": {
      "text/plain": [
       "array(['00083', '02061', '06901', '07020', '07087', '07093', '07109',\n",
       "       '07114', '07201', '07208', '07306', '07604', '08807', '10000',\n",
       "       '10001', '10002', '10003', '10004', '10005', '10006', '10007',\n",
       "       '10009', '10010', '10011', '10012', '10013', '10014', '10016',\n",
       "       '10017', '10018', '10019', '10020', '10021', '10022', '10023',\n",
       "       '10024', '10025', '10026', '10027', '10028', '10029', '10030',\n",
       "       '10031', '10032', '10033', '10034', '10035', '10036', '10037',\n",
       "       '10038', '10039', '10040', '10044', '10048', '10065', '10069',\n",
       "       '10075', '10103', '10107', '10112', '10119', '10128', '10129',\n",
       "       '10153', '10162', '10280', '10281', '10282', '10301', '10302',\n",
       "       '10303', '10304', '10305', '10306', '10307', '10308', '10309',\n",
       "       '10310', '10312', '10314', '10451', '10452', '10453', '10454',\n",
       "       '10455', '10456', '10457', '10458', '10459', '10460', '10461',\n",
       "       '10462', '10463', '10464', '10465', '10466', '10467', '10468',\n",
       "       '10469', '10470', '10471', '10472', '10473', '10474', '10475',\n",
       "       '10573', '10803', '10954', '11001', '11003', '11004', '11005',\n",
       "       '11040', '11042', '11101', '11102', '11103', '11104', '11105',\n",
       "       '11106', '11109', '11111', '11201', '11203', '11204', '11205',\n",
       "       '11206', '11207', '11208', '11209', '11210', '11211', '11212',\n",
       "       '11213', '11214', '11215', '11216', '11217', '11218', '11219',\n",
       "       '11220', '11221', '11222', '11223', '11224', '11225', '11226',\n",
       "       '11228', '11229', '11230', '11231', '11232', '11233', '11234',\n",
       "       '11235', '11236', '11237', '11238', '11239', '11249', '11354',\n",
       "       '11355', '11356', '11357', '11358', '11360', '11361', '11362',\n",
       "       '11363', '11364', '11365', '11366', '11367', '11368', '11369',\n",
       "       '11370', '11372', '11373', '11374', '11375', '11377', '11378',\n",
       "       '11379', '11385', '11411', '11412', '11413', '11414', '11415',\n",
       "       '11416', '11417', '11418', '11419', '11420', '11421', '11422',\n",
       "       '11423', '11426', '11427', '11428', '11429', '11430', '11432',\n",
       "       '11433', '11434', '11435', '11436', '11501', '11518', '11520',\n",
       "       '11530', '11549', '11559', '11563', '11575', '11577', '11580',\n",
       "       '11590', '11691', '11692', '11693', '11694', '11697', '11716',\n",
       "       '11722', '11735', '11747', '11776', '11788', '11797', '13221',\n",
       "       '14225', '19711', '23502', '23541', '29616', '35209', '41042',\n",
       "       '55164', '61702', '70711', '77056', '77092', '90010', '92123'], dtype=object)"
      ]
     },
     "execution_count": 175,
     "metadata": {},
     "output_type": "execute_result"
    }
   ],
   "source": [
    "unique_zips = requests['Incident Zip'].dropna().unique()\n",
    "unique_zips.sort()\n",
    "unique_zips"
   ]
  },
  {
   "cell_type": "code",
   "execution_count": 173,
   "metadata": {
    "collapsed": true
   },
   "outputs": [],
   "source": []
  }
 ],
 "metadata": {
  "kernelspec": {
   "display_name": "Python 3",
   "language": "python",
   "name": "python3"
  },
  "language_info": {
   "codemirror_mode": {
    "name": "ipython",
    "version": 3
   },
   "file_extension": ".py",
   "mimetype": "text/x-python",
   "name": "python",
   "nbconvert_exporter": "python",
   "pygments_lexer": "ipython3",
   "version": "3.6.3"
  }
 },
 "nbformat": 4,
 "nbformat_minor": 2
}
